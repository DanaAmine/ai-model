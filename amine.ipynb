{
  "nbformat": 4,
  "nbformat_minor": 0,
  "metadata": {
    "colab": {
      "provenance": [],
      "authorship_tag": "ABX9TyO75nmwvuMARO5zawTQ0zuj",
      "include_colab_link": true
    },
    "kernelspec": {
      "name": "python3",
      "display_name": "Python 3"
    },
    "language_info": {
      "name": "python"
    }
  },
  "cells": [
    {
      "cell_type": "markdown",
      "metadata": {
        "id": "view-in-github",
        "colab_type": "text"
      },
      "source": [
        "<a href=\"https://colab.research.google.com/github/DanaAmine/git_course/blob/main/amine.ipynb\" target=\"_parent\"><img src=\"https://colab.research.google.com/assets/colab-badge.svg\" alt=\"Open In Colab\"/></a>"
      ]
    },
    {
      "cell_type": "markdown",
      "source": [],
      "metadata": {
        "id": "qO0AFol8QCsN"
      }
    },
    {
      "cell_type": "code",
      "source": [
        "import pandas as pd"
      ],
      "metadata": {
        "id": "sYfiPQe0P6LJ"
      },
      "execution_count": 93,
      "outputs": []
    },
    {
      "cell_type": "code",
      "source": [
        "from sklearn.metrics.pairwise import cosine_similarity"
      ],
      "metadata": {
        "id": "axIWIxtvkOSO"
      },
      "execution_count": 94,
      "outputs": []
    },
    {
      "cell_type": "code",
      "source": [
        "# Load the data\n",
        "df = pd.read_csv('tiktok_posts.csv')"
      ],
      "metadata": {
        "id": "NOLv0so9kWP3"
      },
      "execution_count": 95,
      "outputs": []
    },
    {
      "cell_type": "code",
      "source": [
        "# Convert 'Time of Post' column to datetime format\n",
        "df['Time of Post'] = pd.to_datetime(df['Time of Post'])"
      ],
      "metadata": {
        "id": "E9PAJ004pUXY"
      },
      "execution_count": 96,
      "outputs": []
    },
    {
      "cell_type": "code",
      "source": [
        "desired_day = 'Sunday'\n",
        "filtered_df = df[df['Time of Post'].dt.day_name() == desired_day]\n",
        "df = filtered_df"
      ],
      "metadata": {
        "id": "56al_vE3o_mP"
      },
      "execution_count": 97,
      "outputs": []
    },
    {
      "cell_type": "code",
      "source": [
        "# Compute similarity matrix\n",
        "features = df[['Number of Likes', 'Number of Comments', 'Number of Shares']].values"
      ],
      "metadata": {
        "id": "FO735k_4kYMe"
      },
      "execution_count": 98,
      "outputs": []
    },
    {
      "cell_type": "code",
      "source": [
        "category_onehot = pd.get_dummies(df['Category'])  # One-hot encode category variable"
      ],
      "metadata": {
        "id": "pdvjEJjlkcx2"
      },
      "execution_count": 99,
      "outputs": []
    },
    {
      "cell_type": "code",
      "source": [
        "hashtags = df['Hashtags'].str.get_dummies(', ')   # One-hot encode hashtags variable"
      ],
      "metadata": {
        "id": "9o8Z8aE2kfdz"
      },
      "execution_count": 100,
      "outputs": []
    },
    {
      "cell_type": "code",
      "source": [
        "all_features = pd.concat([pd.DataFrame(features), category_onehot, hashtags], axis=1)  # Combine features and one-hot encoded variables"
      ],
      "metadata": {
        "id": "k1aQItWDkiIR"
      },
      "execution_count": 101,
      "outputs": []
    },
    {
      "cell_type": "code",
      "source": [
        "# Drop rows containing NaN values\n",
        "all_features.dropna(axis=0, inplace=True)\n",
        "\n",
        "# Compute similarity matrix\n",
        "similarity_matrix = cosine_similarity(all_features)\n"
      ],
      "metadata": {
        "id": "-oBpxKIjkmNw"
      },
      "execution_count": 102,
      "outputs": []
    },
    {
      "cell_type": "code",
      "source": [
        "# Find similar posts for a given post\n",
        "post_index = 0  # Index of the post for which you want to find similar posts\n",
        "similar_posts_indices = similarity_matrix[post_index].argsort()[-5:-1]  # Get indices of 5 most similar posts\n",
        "\n"
      ],
      "metadata": {
        "id": "r6ePR8jqkpnC"
      },
      "execution_count": 103,
      "outputs": []
    },
    {
      "cell_type": "code",
      "source": [
        "# Convert 'Time of Post' column to datetime format\n",
        "df['Time of Post'] = pd.to_datetime(df['Time of Post'])\n",
        "\n",
        "# Calculate average posting time of similar posts\n",
        "average_time = df.iloc[similar_posts_indices]['Time of Post'].mean()\n",
        "\n",
        "\n",
        "\n",
        "# Extract the hour and minute components\n",
        "average_hour = average_time.hour\n",
        "average_minute = average_time.minute\n",
        "\n",
        "print('Top 1 Predicted perfect posting time on {}: {}:{}'\n",
        "      .format(desired_day, str(average_hour).zfill(2), str(average_minute).zfill(2)))\n"
      ],
      "metadata": {
        "colab": {
          "base_uri": "https://localhost:8080/"
        },
        "id": "5BIIJeZrQeO0",
        "outputId": "bcf16fc1-a569-438a-c68b-f5258bf49e7a"
      },
      "execution_count": 104,
      "outputs": [
        {
          "output_type": "stream",
          "name": "stdout",
          "text": [
            "Top 1 Predicted perfect posting time on Sunday: 06:17\n"
          ]
        }
      ]
    }
  ]
}